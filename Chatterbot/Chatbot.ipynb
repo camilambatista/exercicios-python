{
 "cells": [
  {
   "cell_type": "code",
   "execution_count": 4,
   "id": "c6fda695",
   "metadata": {},
   "outputs": [
    {
     "name": "stdout",
     "output_type": "stream",
     "text": [
      "✔ Download and installation successful\n",
      "You can now load the package via spacy.load('en_core_web_sm')\n"
     ]
    }
   ],
   "source": [
    "from chatterbot import ChatBot\n",
    "from chatterbot.trainers import ListTrainer\n",
    "\n",
    "#isso aqui só precisa para corrigir o bug\n",
    "from spacy.cli import download\n",
    "\n",
    "download(\"en_core_web_sm\")\n",
    "class ENGSM:\n",
    "    ISO_639_1 = 'en_core_web_sm'"
   ]
  },
  {
   "cell_type": "code",
   "execution_count": 15,
   "id": "4c2e0201",
   "metadata": {},
   "outputs": [
    {
     "name": "stdout",
     "output_type": "stream",
     "text": [
      "List Trainer: [####################] 100%\n"
     ]
    }
   ],
   "source": [
    "chatbot = ChatBot(\"BotCamila\", tagger_language=ENGSM)\n",
    "\n",
    "conversa= [\n",
    "    \"Bom dia\",\n",
    "    \"Bom dia, tudo bem?\",\n",
    "    \"Tudo sim e com você?\",\n",
    "    \"To bem também! O que você precisa?\",\n",
    "    \"Gostaria de saber como eu faço para combinar dois diretórios em C#\",\n",
    "    \"Utilize o método próprio do C#: Path.Combine(diretorio1, diretorio2)\",\n",
    "    \"Obrigada!\",\n",
    "    \"Por nada :)\",\n",
    "]\n",
    "\n",
    "trainer = ListTrainer(chatbot)\n",
    "trainer.train(conversa)"
   ]
  },
  {
   "cell_type": "code",
   "execution_count": 20,
   "id": "67131811",
   "metadata": {},
   "outputs": [
    {
     "name": "stdout",
     "output_type": "stream",
     "text": [
      "Mande uma mensagem para o chatbot:Bom dia\n",
      "Bom dia, tudo bem?\n",
      "Mande uma mensagem para o chatbot:Tudo sim e com você?\n",
      "To bem também! O que você precisa?\n",
      "Mande uma mensagem para o chatbot:Gostaria de saber como eu combino dois diretórios\n",
      "Utilize o método próprio do C#: Path.Combine(diretorio1, diretorio2)\n",
      "Mande uma mensagem para o chatbot:Obrigada\n",
      "Bom dia, tudo bem?\n",
      "Mande uma mensagem para o chatbot:parar\n"
     ]
    }
   ],
   "source": [
    "while True:\n",
    "    mensagem = input(\"Mande uma mensagem para o chatbot:\")\n",
    "    if mensagem == \"parar\":\n",
    "        break\n",
    "    resposta = chatbot.get_response(mensagem)\n",
    "    print(resposta)"
   ]
  },
  {
   "cell_type": "code",
   "execution_count": 14,
   "id": "6b5303d9",
   "metadata": {},
   "outputs": [],
   "source": [
    "chatbot.storage.drop()"
   ]
  },
  {
   "cell_type": "code",
   "execution_count": null,
   "id": "280d19a0",
   "metadata": {},
   "outputs": [],
   "source": []
  },
  {
   "cell_type": "code",
   "execution_count": null,
   "id": "16e97819",
   "metadata": {},
   "outputs": [],
   "source": []
  },
  {
   "cell_type": "code",
   "execution_count": null,
   "id": "1e4a695a",
   "metadata": {},
   "outputs": [],
   "source": []
  },
  {
   "cell_type": "code",
   "execution_count": null,
   "id": "79589068",
   "metadata": {},
   "outputs": [],
   "source": []
  }
 ],
 "metadata": {
  "kernelspec": {
   "display_name": "Python 3",
   "language": "python",
   "name": "python3"
  },
  "language_info": {
   "codemirror_mode": {
    "name": "ipython",
    "version": 3
   },
   "file_extension": ".py",
   "mimetype": "text/x-python",
   "name": "python",
   "nbconvert_exporter": "python",
   "pygments_lexer": "ipython3",
   "version": "3.6.13"
  }
 },
 "nbformat": 4,
 "nbformat_minor": 5
}
